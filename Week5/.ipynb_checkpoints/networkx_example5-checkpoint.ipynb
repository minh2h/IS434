{
 "cells": [
  {
   "cell_type": "markdown",
   "metadata": {},
   "source": [
    "Social Network Analysis - Part 2 - Example 5\n",
    "(Network Measures - Undirected Network)\n",
    "\n",
    "In this exercise, we will use networkx package to compute network-level measures:\n",
    "\n",
    "Size\n",
    "Density\n",
    "Diameter\n",
    "Average Path Length\n",
    "Reachability\n",
    "\n",
    "NOTE: Reciprocity measure is for directed networks (networkx_example6)"
   ]
  },
  {
   "cell_type": "code",
   "execution_count": 1,
   "metadata": {},
   "outputs": [],
   "source": [
    "import matplotlib.pyplot as plt\n",
    "import networkx as nx"
   ]
  },
  {
   "cell_type": "code",
   "execution_count": 2,
   "metadata": {},
   "outputs": [],
   "source": [
    "# Return the Star network with n+1 nodes: one center node, connected to n outer nodes.\n",
    "G = nx.star_graph(5)"
   ]
  },
  {
   "cell_type": "code",
   "execution_count": 3,
   "metadata": {},
   "outputs": [
    {
     "data": {
      "image/png": "[encoded data removed]",
      "text/plain": [
       "<Figure size 360x360 with 1 Axes>"
      ]
     },
     "metadata": {},
     "output_type": "display_data"
    }
   ],
   "source": [
    "# Draw the network\n",
    "plt.figure(figsize = (5,5))\n",
    "nx.draw(G, with_labels=True, node_size=1000, node_color='y', font_size=10)\n",
    "plt.show()"
   ]
  },
  {
   "cell_type": "code",
   "execution_count": null,
   "metadata": {},
   "outputs": [],
   "source": [
    "# Size\n",
    "# It is equivalent to the total number of nodes in the network\n",
    "print(\"Size: \", G.number_of_nodes())"
   ]
  },
  {
   "cell_type": "code",
   "execution_count": null,
   "metadata": {},
   "outputs": [],
   "source": [
    "# Density\n",
    "# Ref: https://networkx.github.io/documentation/networkx-1.9/reference/generated/networkx.classes.function.density.html\n",
    "print(\"Density: \", nx.density(G))"
   ]
  },
  {
   "cell_type": "code",
   "execution_count": null,
   "metadata": {},
   "outputs": [],
   "source": [
    "# Diameter\n",
    "# Ref: https://networkx.github.io/documentation/networkx-1.10/reference/generated/networkx.algorithms.distance_measures.diameter.html\n",
    "print(\"Diameter: \", nx.diameter(G))"
   ]
  },
  {
   "cell_type": "code",
   "execution_count": null,
   "metadata": {},
   "outputs": [],
   "source": [
    "# Average Path Length\n",
    "# Ref: https://networkx.github.io/documentation/networkx-1.10/reference/generated/networkx.algorithms.shortest_paths.generic.average_shortest_path_length.html\n",
    "print(\"Average path length: \", nx.average_shortest_path_length(G))"
   ]
  },
  {
   "cell_type": "code",
   "execution_count": null,
   "metadata": {},
   "outputs": [],
   "source": [
    "# Reachability\n",
    "# Ref: https://networkx.github.io/documentation/networkx-1.9/reference/generated/networkx.algorithms.dag.descendants.html\n",
    "\n",
    "num_max_reachable_other_nodes = G.number_of_nodes() - 1\n",
    "\n",
    "print(\"Total number of reachable other nodes: \", num_max_reachable_other_nodes)\n",
    "node_list = list(G.nodes)  # All nodes - we will iterate through this list, one node at a time\n",
    "\n",
    "node_reachability_list = []\n",
    "for node in node_list:\n",
    "    # Retrieve 'descendants' or all reachable other nodes\n",
    "    # nx.descendants returns a Set\n",
    "    desc = nx.descendants(G, node)\n",
    "    \n",
    "    # How many other nodes are reachable from this node?\n",
    "    num_reachable_from_this_node = len(desc)\n",
    "    node_reachability = num_reachable_from_this_node / num_max_reachable_other_nodes\n",
    "    print(\"==========================================\")\n",
    "    print(\"Current node is\", node, \" and node-level reachability is\", node_reachability)\n",
    "    print(desc)\n",
    "    node_reachability_list.append(node_reachability)\n",
    "    \n",
    "print(\"\\n################ Network-level Reachability ################\")\n",
    "print( sum(node_reachability_list) / len(node_reachability_list) )"
   ]
  },
  {
   "cell_type": "code",
   "execution_count": null,
   "metadata": {},
   "outputs": [],
   "source": []
  }
 ],
 "metadata": {
  "kernelspec": {
   "display_name": "Python 3",
   "language": "python",
   "name": "python3"
  },
  "language_info": {
   "codemirror_mode": {
    "name": "ipython",
    "version": 3
   },
   "file_extension": ".py",
   "mimetype": "text/x-python",
   "name": "python",
   "nbconvert_exporter": "python",
   "pygments_lexer": "ipython3",
   "version": "3.8.1"
  }
 },
 "nbformat": 4,
 "nbformat_minor": 2
}
